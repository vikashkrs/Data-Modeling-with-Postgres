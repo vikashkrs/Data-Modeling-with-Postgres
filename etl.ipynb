{
 "cells": [
  {
   "cell_type": "markdown",
   "metadata": {
    "editable": true
   },
   "source": [
    "# ETL Processes\n",
    "Use this notebook to develop the ETL process for each of your tables before completing the `etl.py` file to load the whole datasets."
   ]
  },
  {
   "cell_type": "code",
   "execution_count": 1,
   "metadata": {
    "editable": true
   },
   "outputs": [],
   "source": [
    "import os\n",
    "import glob\n",
    "import psycopg2\n",
    "import pandas as pd\n",
    "from sql_queries import *"
   ]
  },
  {
   "cell_type": "code",
   "execution_count": 2,
   "metadata": {
    "editable": true
   },
   "outputs": [],
   "source": [
    "conn = psycopg2.connect(\"host=127.0.0.1 dbname=sparkifydb user=student password=student\")\n",
    "cur = conn.cursor()"
   ]
  },
  {
   "cell_type": "code",
   "execution_count": 3,
   "metadata": {
    "editable": true
   },
   "outputs": [
    {
     "data": {
      "text/plain": [
       "<function posixpath.abspath(path)>"
      ]
     },
     "execution_count": 3,
     "metadata": {},
     "output_type": "execute_result"
    }
   ],
   "source": [
    "os.path.abspath"
   ]
  },
  {
   "cell_type": "code",
   "execution_count": 3,
   "metadata": {
    "editable": true
   },
   "outputs": [],
   "source": [
    "def get_files(filepath):\n",
    "    all_files = []\n",
    "    for root, dirs, files in os.walk(filepath):\n",
    "        files = glob.glob(os.path.join(root,'*.json'))\n",
    "        for f in files :\n",
    "            all_files.append(os.path.abspath(f))\n",
    "    \n",
    "    return all_files"
   ]
  },
  {
   "cell_type": "markdown",
   "metadata": {
    "editable": true
   },
   "source": [
    "# Process `song_data`\n",
    "In this first part, you'll perform ETL on the first dataset, `song_data`, to create the `songs` and `artists` dimensional tables.\n",
    "\n",
    "Let's perform ETL on a single song file and load a single record into each table to start.\n",
    "- Use the `get_files` function provided above to get a list of all song JSON files in `data/song_data`\n",
    "- Select the first song in this list\n",
    "- Read the song file and view the data"
   ]
  },
  {
   "cell_type": "code",
   "execution_count": 92,
   "metadata": {
    "editable": true
   },
   "outputs": [],
   "source": [
    "song_files = get_files(\"/home/workspace/data/song_data\")"
   ]
  },
  {
   "cell_type": "code",
   "execution_count": 93,
   "metadata": {
    "editable": true
   },
   "outputs": [],
   "source": [
    "filepath = song_files[0]"
   ]
  },
  {
   "cell_type": "code",
   "execution_count": null,
   "metadata": {
    "editable": true
   },
   "outputs": [],
   "source": []
  },
  {
   "cell_type": "code",
   "execution_count": 94,
   "metadata": {
    "editable": true
   },
   "outputs": [
    {
     "data": {
      "text/html": [
       "<div>\n",
       "<style scoped>\n",
       "    .dataframe tbody tr th:only-of-type {\n",
       "        vertical-align: middle;\n",
       "    }\n",
       "\n",
       "    .dataframe tbody tr th {\n",
       "        vertical-align: top;\n",
       "    }\n",
       "\n",
       "    .dataframe thead th {\n",
       "        text-align: right;\n",
       "    }\n",
       "</style>\n",
       "<table border=\"1\" class=\"dataframe\">\n",
       "  <thead>\n",
       "    <tr style=\"text-align: right;\">\n",
       "      <th></th>\n",
       "      <th>artist_id</th>\n",
       "      <th>artist_latitude</th>\n",
       "      <th>artist_location</th>\n",
       "      <th>artist_longitude</th>\n",
       "      <th>artist_name</th>\n",
       "      <th>duration</th>\n",
       "      <th>num_songs</th>\n",
       "      <th>song_id</th>\n",
       "      <th>title</th>\n",
       "      <th>year</th>\n",
       "    </tr>\n",
       "  </thead>\n",
       "  <tbody>\n",
       "    <tr>\n",
       "      <th>0</th>\n",
       "      <td>ARD7TVE1187B99BFB1</td>\n",
       "      <td>NaN</td>\n",
       "      <td>California - LA</td>\n",
       "      <td>NaN</td>\n",
       "      <td>Casual</td>\n",
       "      <td>218.93179</td>\n",
       "      <td>1</td>\n",
       "      <td>SOMZWCG12A8C13C480</td>\n",
       "      <td>I Didn't Mean To</td>\n",
       "      <td>0</td>\n",
       "    </tr>\n",
       "  </tbody>\n",
       "</table>\n",
       "</div>"
      ],
      "text/plain": [
       "            artist_id  artist_latitude  artist_location  artist_longitude  \\\n",
       "0  ARD7TVE1187B99BFB1              NaN  California - LA               NaN   \n",
       "\n",
       "  artist_name   duration  num_songs             song_id             title  \\\n",
       "0      Casual  218.93179          1  SOMZWCG12A8C13C480  I Didn't Mean To   \n",
       "\n",
       "   year  \n",
       "0     0  "
      ]
     },
     "execution_count": 94,
     "metadata": {},
     "output_type": "execute_result"
    }
   ],
   "source": [
    "df = pd.read_json(filepath,lines=True)\n",
    "df.head()"
   ]
  },
  {
   "cell_type": "markdown",
   "metadata": {
    "editable": true
   },
   "source": [
    "## #1: `songs` Table\n",
    "#### Extract Data for Songs Table\n",
    "- Select columns for song ID, title, artist ID, year, and duration\n",
    "- Use `df.values` to select just the values from the dataframe\n",
    "- Index to select the first (only) record in the dataframe\n",
    "- Convert the array to a list and set it to `song_data`"
   ]
  },
  {
   "cell_type": "code",
   "execution_count": 95,
   "metadata": {
    "editable": true
   },
   "outputs": [
    {
     "ename": "SyntaxError",
     "evalue": "invalid syntax (<ipython-input-95-838ff5da4069>, line 1)",
     "output_type": "error",
     "traceback": [
      "\u001b[0;36m  File \u001b[0;32m\"<ipython-input-95-838ff5da4069>\"\u001b[0;36m, line \u001b[0;32m1\u001b[0m\n\u001b[0;31m    song_data =\u001b[0m\n\u001b[0m                ^\u001b[0m\n\u001b[0;31mSyntaxError\u001b[0m\u001b[0;31m:\u001b[0m invalid syntax\n"
     ]
    }
   ],
   "source": [
    "song_data = \n",
    "song_data"
   ]
  },
  {
   "cell_type": "code",
   "execution_count": 96,
   "metadata": {
    "editable": true
   },
   "outputs": [
    {
     "data": {
      "text/plain": [
       "array([['SOMZWCG12A8C13C480', \"I Didn't Mean To\", 'ARD7TVE1187B99BFB1', 0,\n",
       "        218.93179]], dtype=object)"
      ]
     },
     "execution_count": 96,
     "metadata": {},
     "output_type": "execute_result"
    }
   ],
   "source": [
    "df1 = df[['song_id','title','artist_id','year','duration']]\n",
    "df1.values"
   ]
  },
  {
   "cell_type": "code",
   "execution_count": 97,
   "metadata": {
    "editable": true
   },
   "outputs": [
    {
     "name": "stdout",
     "output_type": "stream",
     "text": [
      "            artist_id  artist_latitude  artist_location  artist_longitude  \\\n",
      "0  ARD7TVE1187B99BFB1              NaN  California - LA               NaN   \n",
      "\n",
      "  artist_name   duration  num_songs             song_id             title  \\\n",
      "0      Casual  218.93179          1  SOMZWCG12A8C13C480  I Didn't Mean To   \n",
      "\n",
      "   year  \n",
      "0     0  \n",
      "            artist_id  artist_latitude artist_location  artist_longitude  \\\n",
      "0  ARNTLGG11E2835DDB9              NaN                               NaN   \n",
      "\n",
      "  artist_name   duration  num_songs             song_id  \\\n",
      "0         Clp  266.39628          1  SOUDSGM12AC9618304   \n",
      "\n",
      "                               title  year  \n",
      "0  Insatiable (Instrumental Version)     0  \n",
      "            artist_id  artist_latitude artist_location  artist_longitude  \\\n",
      "0  AR8ZCNI1187B9A069B              NaN                               NaN   \n",
      "\n",
      "        artist_name   duration  num_songs             song_id       title  \\\n",
      "0  Planet P Project  269.81832          1  SOIAZJW12AB01853F1  Pink World   \n",
      "\n",
      "   year  \n",
      "0  1984  \n",
      "            artist_id  artist_latitude              artist_location  \\\n",
      "0  AR10USD1187B99F3F1              NaN  Burlington, Ontario, Canada   \n",
      "\n",
      "   artist_longitude            artist_name   duration  num_songs  \\\n",
      "0               NaN  Tweeterfriendly Music  189.57016          1   \n",
      "\n",
      "              song_id         title  year  \n",
      "0  SOHKNRJ12A6701D1F8  Drop of Rain     0  \n",
      "            artist_id  artist_latitude artist_location  artist_longitude  \\\n",
      "0  ARMJAGH1187FB546F3         35.14968     Memphis, TN         -90.04892   \n",
      "\n",
      "    artist_name   duration  num_songs             song_id      title  year  \n",
      "0  The Box Tops  148.03546          1  SOCIWDW12A8C13D406  Soul Deep  1969  \n",
      "            artist_id  artist_latitude artist_location  artist_longitude  \\\n",
      "0  ARKFYS91187B98E58F              NaN                               NaN   \n",
      "\n",
      "             artist_name  duration  num_songs             song_id  \\\n",
      "0  Jeff And Sheri Easter  267.7024          1  SOYMRWW12A6D4FAB14   \n",
      "\n",
      "                                         title  year  \n",
      "0  The Moon And I (Ordinary Day Album Version)     0  \n",
      "            artist_id  artist_latitude artist_location  artist_longitude  \\\n",
      "0  ARD0S291187B9B7BF5              NaN            Ohio               NaN   \n",
      "\n",
      "  artist_name   duration  num_songs             song_id  \\\n",
      "0     Rated R  114.78159          1  SOMJBYD12A6D4F8557   \n",
      "\n",
      "                   title  year  \n",
      "0  Keepin It Real (Skit)     0  \n",
      "            artist_id  artist_latitude artist_location  artist_longitude  \\\n",
      "0  ARGSJW91187B9B1D6B         35.21962  North Carolina         -80.01955   \n",
      "\n",
      "    artist_name   duration  num_songs             song_id            title  \\\n",
      "0  JennyAnyKind  218.77506          1  SOQHXMF12AB0182363  Young Boy Blues   \n",
      "\n",
      "   year  \n",
      "0     0  \n",
      "            artist_id  artist_latitude  artist_location  artist_longitude  \\\n",
      "0  AR7G5I41187FB4CE6C              NaN  London, England               NaN   \n",
      "\n",
      "  artist_name   duration  num_songs             song_id            title  year  \n",
      "0    Adam Ant  233.40363          1  SONHOTT12A8C13493C  Something Girls  1982  \n",
      "            artist_id  artist_latitude artist_location  artist_longitude  \\\n",
      "0  ARXR32B1187FB57099              NaN                               NaN   \n",
      "\n",
      "  artist_name   duration  num_songs             song_id           title  year  \n",
      "0         Gob  209.60608          1  SOFSOCN12A8C143F5D  Face the Ashes  2007  \n",
      "            artist_id  artist_latitude artist_location  artist_longitude  \\\n",
      "0  ARKRRTF1187B9984DA              NaN                               NaN   \n",
      "\n",
      "        artist_name   duration  num_songs             song_id  \\\n",
      "0  Sonora Santanera  177.47546          1  SOXVLOJ12AB0189215   \n",
      "\n",
      "             title  year  \n",
      "0  Amor De Cabaret     0  \n",
      "            artist_id  artist_latitude artist_location  artist_longitude  \\\n",
      "0  ARXR32B1187FB57099              NaN                               NaN   \n",
      "\n",
      "  artist_name   duration  num_songs             song_id           title  year  \n",
      "0         Gob  209.60608          1  SOFSOCN12A8C143F5D  Face the Ashes  2007  \n",
      "            artist_id  artist_latitude artist_location  artist_longitude  \\\n",
      "0  ARMJAGH1187FB546F3         35.14968     Memphis, TN         -90.04892   \n",
      "\n",
      "    artist_name   duration  num_songs             song_id      title  year  \n",
      "0  The Box Tops  148.03546          1  SOCIWDW12A8C13D406  Soul Deep  1969  \n",
      "            artist_id  artist_latitude  artist_location  artist_longitude  \\\n",
      "0  AR7G5I41187FB4CE6C              NaN  London, England               NaN   \n",
      "\n",
      "  artist_name   duration  num_songs             song_id            title  year  \n",
      "0    Adam Ant  233.40363          1  SONHOTT12A8C13493C  Something Girls  1982  \n",
      "            artist_id  artist_latitude  artist_location  artist_longitude  \\\n",
      "0  ARD7TVE1187B99BFB1              NaN  California - LA               NaN   \n",
      "\n",
      "  artist_name   duration  num_songs             song_id             title  \\\n",
      "0      Casual  218.93179          1  SOMZWCG12A8C13C480  I Didn't Mean To   \n",
      "\n",
      "   year  \n",
      "0     0  \n",
      "            artist_id  artist_latitude artist_location  artist_longitude  \\\n",
      "0  ARKRRTF1187B9984DA              NaN                               NaN   \n",
      "\n",
      "        artist_name   duration  num_songs             song_id  \\\n",
      "0  Sonora Santanera  177.47546          1  SOXVLOJ12AB0189215   \n",
      "\n",
      "             title  year  \n",
      "0  Amor De Cabaret     0  \n",
      "            artist_id  artist_latitude artist_location  artist_longitude  \\\n",
      "0  ARIG6O41187B988BDD         37.16793   United States         -95.84502   \n",
      "\n",
      "       artist_name  duration  num_songs             song_id      title  year  \n",
      "0  Richard Souther  228.5971          1  SOUQQEA12A8C134B1B  High Tide     0  \n",
      "            artist_id  artist_latitude artist_location  artist_longitude  \\\n",
      "0  AR1ZHYZ1187FB3C717              NaN                               NaN   \n",
      "\n",
      "     artist_name   duration  num_songs             song_id  \\\n",
      "0  Faiz Ali Faiz  599.24853          1  SOILPQQ12AB017E82A   \n",
      "\n",
      "                  title  year  \n",
      "0  Sohna Nee Sohna Data     0  \n",
      "            artist_id  artist_latitude           artist_location  \\\n",
      "0  ARD842G1187B997376         43.64856  Toronto, Ontario, Canada   \n",
      "\n",
      "   artist_longitude artist_name   duration  num_songs             song_id  \\\n",
      "0         -79.38533  Blue Rodeo  491.12771          1  SOHUOAP12A8AE488E9   \n",
      "\n",
      "      title  year  \n",
      "0  Floating  1987  \n",
      "            artist_id  artist_latitude artist_location  artist_longitude  \\\n",
      "0  ARL7K851187B99ACD2              NaN                               NaN   \n",
      "\n",
      "  artist_name   duration  num_songs             song_id     title  year  \n",
      "0   Andy Andy  226.35057          1  SOMUYGI12AB0188633  La Culpa     0  \n",
      "            artist_id  artist_latitude artist_location  artist_longitude  \\\n",
      "0  ARHHO3O1187B989413              NaN                               NaN   \n",
      "\n",
      "  artist_name   duration  num_songs             song_id           title  year  \n",
      "0   Bob Azzam  191.84281          1  SORAMLE12AB017C8B0  Auguri Cha Cha     0  \n",
      "            artist_id  artist_latitude artist_location  artist_longitude  \\\n",
      "0  ARYKCQI1187FB3B18F              NaN                               NaN   \n",
      "\n",
      "  artist_name   duration  num_songs             song_id              title  \\\n",
      "0       Tesla  290.29832          1  SOXLBJT12A8C140925  Caught In A Dream   \n",
      "\n",
      "   year  \n",
      "0  2004  \n",
      "            artist_id  artist_latitude artist_location  artist_longitude  \\\n",
      "0  ARQGYP71187FB44566         34.31109     Mineola, AR         -94.02978   \n",
      "\n",
      "    artist_name   duration  num_songs             song_id  \\\n",
      "0  Jimmy Wakely  151.84934          1  SOWTBJW12AC468AC6E   \n",
      "\n",
      "                        title  year  \n",
      "0  Broken-Down Merry-Go-Round     0  \n",
      "            artist_id  artist_latitude artist_location  artist_longitude  \\\n",
      "0  ARNPAGP1241B9C7FD4              NaN                               NaN   \n",
      "\n",
      "  artist_name   duration  num_songs             song_id            title  year  \n",
      "0   lextrical  165.69424          1  SOZVMJI12AB01808AF  Synthetic Dream     0  \n",
      "            artist_id  artist_latitude artist_location  artist_longitude  \\\n",
      "0  ARC43071187B990240              NaN      Wisner, LA               NaN   \n",
      "\n",
      "    artist_name   duration  num_songs             song_id  \\\n",
      "0  Wayne Watson  245.21098          1  SOKEJEJ12A8C13E0D0   \n",
      "\n",
      "                      title  year  \n",
      "0  The Urgency (LP Version)     0  \n",
      "            artist_id  artist_latitude artist_location  artist_longitude  \\\n",
      "0  ARI3BMM1187FB4255E          38.8991      Washington           -77.029   \n",
      "\n",
      "    artist_name   duration  num_songs             song_id         title  year  \n",
      "0  Alice Stuart  220.78649          1  SOBEBDG12A58A76D60  Kassie Jones     0  \n",
      "            artist_id  artist_latitude    artist_location  artist_longitude  \\\n",
      "0  ARIK43K1187B9AE54C              NaN  Beverly Hills, CA               NaN   \n",
      "\n",
      "     artist_name  duration  num_songs             song_id  \\\n",
      "0  Lionel Richie  307.3824          1  SOBONFF12A6D4F84D8   \n",
      "\n",
      "                     title  year  \n",
      "0  Tonight Will Be Alright  1986  \n",
      "            artist_id  artist_latitude artist_location  artist_longitude  \\\n",
      "0  ARL7K851187B99ACD2              NaN                               NaN   \n",
      "\n",
      "  artist_name   duration  num_songs             song_id     title  year  \n",
      "0   Andy Andy  226.35057          1  SOMUYGI12AB0188633  La Culpa     0  \n",
      "            artist_id  artist_latitude artist_location  artist_longitude  \\\n",
      "0  ARC43071187B990240              NaN      Wisner, LA               NaN   \n",
      "\n",
      "    artist_name   duration  num_songs             song_id  \\\n",
      "0  Wayne Watson  245.21098          1  SOKEJEJ12A8C13E0D0   \n",
      "\n",
      "                      title  year  \n",
      "0  The Urgency (LP Version)     0  \n",
      "            artist_id  artist_latitude artist_location  artist_longitude  \\\n",
      "0  ARHHO3O1187B989413              NaN                               NaN   \n",
      "\n",
      "  artist_name   duration  num_songs             song_id           title  year  \n",
      "0   Bob Azzam  191.84281          1  SORAMLE12AB017C8B0  Auguri Cha Cha     0  \n",
      "            artist_id  artist_latitude artist_location  artist_longitude  \\\n",
      "0  AREBBGV1187FB523D2              NaN     Houston, TX               NaN   \n",
      "\n",
      "                                    artist_name   duration  num_songs  \\\n",
      "0  Mike Jones (Featuring CJ_ Mello & Lil' Bran)  173.66159          1   \n",
      "\n",
      "              song_id                            title  year  \n",
      "0  SOOLYAZ12A6701F4A6  Laws Patrolling (Album Version)     0  \n",
      "            artist_id  artist_latitude artist_location  artist_longitude  \\\n",
      "0  ARB29H41187B98F0EF         41.88415         Chicago         -87.63241   \n",
      "\n",
      "     artist_name   duration  num_songs             song_id  \\\n",
      "0  Terry Callier  342.56934          1  SOGNCJP12A58A80271   \n",
      "\n",
      "                          title  year  \n",
      "0  Do You Finally Need A Friend  1972  \n",
      "            artist_id  artist_latitude artist_location  artist_longitude  \\\n",
      "0  ARDNS031187B9924F0         32.67828         Georgia         -83.22295   \n",
      "\n",
      "  artist_name   duration  num_songs             song_id  \\\n",
      "0  Tim Wilson  186.48771          1  SONYPOM12A8C13B2D7   \n",
      "\n",
      "                                               title  year  \n",
      "0  I Think My Wife Is Running Around On Me (Taco ...  2005  \n",
      "            artist_id  artist_latitude    artist_location  artist_longitude  \\\n",
      "0  ARMAC4T1187FB3FA4C         40.82624  Morris Plains, NJ         -74.47995   \n",
      "\n",
      "                 artist_name   duration  num_songs             song_id  \\\n",
      "0  The Dillinger Escape Plan  207.77751          1  SOBBUGU12A8C13E95D   \n",
      "\n",
      "                             title  year  \n",
      "0  Setting Fire to Sleeping Giants  2004  \n",
      "            artist_id  artist_latitude artist_location  artist_longitude  \\\n",
      "0  AR0RCMP1187FB3F427         30.08615    Beaumont, TX         -94.10158   \n",
      "\n",
      "        artist_name   duration  num_songs             song_id  \\\n",
      "0  Billie Jo Spears  133.32853          1  SOGXHEG12AB018653E   \n",
      "\n",
      "                        title  year  \n",
      "0  It Makes No Difference Now  1992  \n",
      "            artist_id  artist_latitude artist_location  artist_longitude  \\\n",
      "0  AR47JEX1187B995D81         37.83721      Nevada, MO         -94.35868   \n",
      "\n",
      "    artist_name   duration  num_songs             song_id  \\\n",
      "0  SUE THOMPSON  124.86485          1  SOBLGCN12AB0183212   \n",
      "\n",
      "                            title  year  \n",
      "0  James (Hold The Ladder Steady)  1985  \n",
      "            artist_id  artist_latitude artist_location  artist_longitude  \\\n",
      "0  ARNTLGG11E2835DDB9              NaN                               NaN   \n",
      "\n",
      "  artist_name   duration  num_songs             song_id              title  \\\n",
      "0         Clp  338.31138          1  SOZQDIU12A58A7BCF6  Superconfidential   \n",
      "\n",
      "   year  \n",
      "0     0  \n",
      "            artist_id  artist_latitude artist_location  artist_longitude  \\\n",
      "0  ARH4Z031187B9A71F2         40.73197      Newark, NJ         -74.17418   \n",
      "\n",
      "  artist_name   duration  num_songs             song_id                 title  \\\n",
      "0  Faye Adams  156.39465          1  SOVYKGO12AB0187199  Crazy Mixed Up World   \n",
      "\n",
      "   year  \n",
      "0  1961  \n",
      "            artist_id  artist_latitude artist_location  artist_longitude  \\\n",
      "0  ARGIWFO1187B9B55B7              NaN                               NaN   \n",
      "\n",
      "      artist_name   duration  num_songs             song_id  \\\n",
      "0  Five Bolt Main  225.09669          1  SOPSWQW12A6D4F8781   \n",
      "\n",
      "                   title  year  \n",
      "0  Made Like This (Live)     0  \n",
      "            artist_id  artist_latitude artist_location  artist_longitude  \\\n",
      "0  AR5KOSW1187FB35FF4         49.80388       Dubai UAE          15.47491   \n",
      "\n",
      "  artist_name   duration  num_songs             song_id           title  year  \n",
      "0       Elena  269.58322          1  SOZCTXZ12AB0182364  Setanta matins     0  \n",
      "            artist_id  artist_latitude artist_location  artist_longitude  \\\n",
      "0  AR1Y2PT1187FB5B9CE         27.94017         Brandon         -82.32547   \n",
      "\n",
      "   artist_name   duration  num_songs             song_id              title  \\\n",
      "0  John Wesley  484.62322          1  SOLLHMX12AB01846DC  The Emperor Falls   \n",
      "\n",
      "   year  \n",
      "0     0  \n",
      "            artist_id  artist_latitude                artist_location  \\\n",
      "0  AROUOZZ1187B9ABE51         40.79195  New York, NY [Spanish Harlem]   \n",
      "\n",
      "   artist_longitude  artist_name   duration  num_songs             song_id  \\\n",
      "0         -73.94512  Willie Bobo  168.25424          1  SOBZBAZ12A6D4F8742   \n",
      "\n",
      "            title  year  \n",
      "0  Spanish Grease  1997  \n",
      "            artist_id  artist_latitude artist_location  artist_longitude  \\\n",
      "0  ARAJPHH1187FB5566A          40.7038      Queens, NY         -73.83168   \n",
      "\n",
      "       artist_name   duration  num_songs             song_id            title  \\\n",
      "0  The Shangri-Las  164.80608          1  SOYTPEP12AB0180E7B  Twist and Shout   \n",
      "\n",
      "   year  \n",
      "0  1964  \n",
      "            artist_id  artist_latitude artist_location  artist_longitude  \\\n",
      "0  ARGUVEV1187B98BA17              NaN                               NaN   \n",
      "\n",
      "      artist_name   duration  num_songs             song_id  \\\n",
      "0  Sierra Maestra  313.12934          1  SOGOSOV12AF72A285E   \n",
      "\n",
      "               title  year  \n",
      "0  ¿Dónde va Chichi?  1997  \n",
      "            artist_id  artist_latitude          artist_location  \\\n",
      "0  AR9AWNF1187B9AB0B4              NaN  Seattle, Washington USA   \n",
      "\n",
      "   artist_longitude                   artist_name   duration  num_songs  \\\n",
      "0               NaN  Kenny G featuring Daryl Hall  236.93016          1   \n",
      "\n",
      "              song_id            title  year  \n",
      "0  SOZHPGD12A8C1394FE  Baby Come To Me     0  \n",
      "            artist_id  artist_latitude artist_location  artist_longitude  \\\n",
      "0  ARQ9BO41187FB5CF1F         40.99471    Pennsylvania         -77.60454   \n",
      "\n",
      "  artist_name   duration  num_songs             song_id  \\\n",
      "0  John Davis  183.17016          1  SOMVWWT12A58A7AE05   \n",
      "\n",
      "                     title  year  \n",
      "0  Knocked Out Of The Park     0  \n",
      "            artist_id  artist_latitude artist_location  artist_longitude  \\\n",
      "0  AR7ZKHQ1187B98DD73              NaN                               NaN   \n",
      "\n",
      "  artist_name  duration  num_songs             song_id              title  \\\n",
      "0        Glad   270.602          1  SOTUKVB12AB0181477  Blessed Assurance   \n",
      "\n",
      "   year  \n",
      "0  1993  \n",
      "            artist_id  artist_latitude  artist_location  artist_longitude  \\\n",
      "0  ARMBR4Y1187B9990EB         37.77916  California - SF        -122.42005   \n",
      "\n",
      "    artist_name   duration  num_songs             song_id  \\\n",
      "0  David Martin  241.47546          1  SOTTDKS12AB018D69B   \n",
      "\n",
      "                  title  year  \n",
      "0  It Wont Be Christmas     0  \n",
      "            artist_id  artist_latitude  artist_location  artist_longitude  \\\n",
      "0  ARI2JSK1187FB496EF         51.50632  London, England          -0.12714   \n",
      "\n",
      "                artist_name   duration  num_songs             song_id  \\\n",
      "0  Nick Ingman;Gavyn Wright  111.62077          1  SODUJBS12A8C132150   \n",
      "\n",
      "                  title  year  \n",
      "0  Wessex Loses a Bride     0  \n",
      "            artist_id  artist_latitude artist_location  artist_longitude  \\\n",
      "0  ARKULSX1187FB45F84         39.49974            Utah        -111.54732   \n",
      "\n",
      "  artist_name   duration  num_songs             song_id        title  year  \n",
      "0      Trafik  424.12363          1  SOQVMXR12A81C21483  Salt In NYC     0  \n",
      "            artist_id  artist_latitude artist_location  artist_longitude  \\\n",
      "0  AR3JMC51187B9AE49D         28.53823     Orlando, FL         -81.37739   \n",
      "\n",
      "       artist_name   duration  num_songs             song_id  \\\n",
      "0  Backstreet Boys  236.25098          1  SOPVXLX12A8C1402D5   \n",
      "\n",
      "              title  year  \n",
      "0  Larger Than Life  1999  \n",
      "            artist_id  artist_latitude artist_location  artist_longitude  \\\n",
      "0  AREDBBQ1187B98AFF5              NaN                               NaN   \n",
      "\n",
      "     artist_name   duration  num_songs             song_id  \\\n",
      "0  Eddie Calvert  138.63138          1  SOBBXLX12A58A79DDA   \n",
      "\n",
      "                           title  year  \n",
      "0  Erica (2005 Digital Remaster)     0  \n",
      "            artist_id  artist_latitude  artist_location  artist_longitude  \\\n",
      "0  ARD7TVE1187B99BFB1              NaN  California - LA               NaN   \n",
      "\n",
      "  artist_name   duration  num_songs             song_id    title  year  \n",
      "0      Casual  259.44771          1  SOQLGFP12A58A7800E  OAKtown     0  \n",
      "            artist_id  artist_latitude artist_location  artist_longitude  \\\n",
      "0  AROGWRA122988FEE45              NaN                               NaN   \n",
      "\n",
      "       artist_name   duration  num_songs             song_id        title  \\\n",
      "0  Christos Dantis  243.82649          1  SOSLAVG12A8C13397F  Den Pai Alo   \n",
      "\n",
      "   year  \n",
      "0     0  \n",
      "            artist_id  artist_latitude artist_location  artist_longitude  \\\n",
      "0  ARPBNLO1187FB3D52F         40.71455    New York, NY         -74.00712   \n",
      "\n",
      "  artist_name  duration  num_songs             song_id  \\\n",
      "0    Tiny Tim  43.36281          1  SOAOIBZ12AB01815BE   \n",
      "\n",
      "                                               title  year  \n",
      "0  I Hold Your Hand In Mine [Live At Royal Albert...  2000  \n",
      "            artist_id  artist_latitude  artist_location  artist_longitude  \\\n",
      "0  ARD7TVE1187B99BFB1              NaN  California - LA               NaN   \n",
      "\n",
      "  artist_name   duration  num_songs             song_id    title  year  \n",
      "0      Casual  259.44771          1  SOQLGFP12A58A7800E  OAKtown     0  \n",
      "            artist_id  artist_latitude artist_location  artist_longitude  \\\n",
      "0  AREDL271187FB40F44              NaN                               NaN   \n",
      "\n",
      "    artist_name  duration  num_songs             song_id  \\\n",
      "0  Soul Mekanik  45.66159          1  SOPEGZN12AB0181B3D   \n",
      "\n",
      "                              title  year  \n",
      "0  Get Your Head Stuck On Your Neck     0  \n",
      "            artist_id  artist_latitude artist_location  artist_longitude  \\\n",
      "0  ARP6N5A1187B99D1A3              NaN   Hamtramck, MI               NaN   \n",
      "\n",
      "   artist_name   duration  num_songs             song_id              title  \\\n",
      "0  Mitch Ryder  207.43791          1  SOXILUQ12A58A7C72A  Jenny Take a Ride   \n",
      "\n",
      "   year  \n",
      "0  2004  \n",
      "            artist_id  artist_latitude  artist_location  artist_longitude  \\\n",
      "0  ARBGXIG122988F409D         37.77916  California - SF        -122.42005   \n",
      "\n",
      "  artist_name   duration  num_songs             song_id              title  \\\n",
      "0  Steel Rain  173.19138          1  SOOJPRH12A8C141995  Loaded Like A Gun   \n",
      "\n",
      "   year  \n",
      "0     0  \n",
      "            artist_id  artist_latitude artist_location  artist_longitude  \\\n",
      "0  ARGSAFR1269FB35070              NaN                               NaN   \n",
      "\n",
      "  artist_name  duration  num_songs             song_id  \\\n",
      "0  Blingtones  29.54404          1  SOTCKKY12AB018A141   \n",
      "\n",
      "                         title  year  \n",
      "0  Sonnerie lalaleulé hi houuu     0  \n",
      "            artist_id  artist_latitude artist_location  artist_longitude  \\\n",
      "0  AR62SOJ1187FB47BB5              NaN                               NaN   \n",
      "\n",
      "      artist_name   duration  num_songs             song_id      title  year  \n",
      "0  Chase & Status  337.68444          1  SOGVQGJ12AB017F169  Ten Tonne  2005  \n",
      "            artist_id  artist_latitude artist_location  artist_longitude  \\\n",
      "0  ARDR4AC1187FB371A1              NaN                               NaN   \n",
      "\n",
      "                                         artist_name   duration  num_songs  \\\n",
      "0  Montserrat Caballé;Placido Domingo;Vicente Sar...  511.16363          1   \n",
      "\n",
      "              song_id                            title  year  \n",
      "0  SOBAYLL12A8C138AF9  Sono andati? Fingevo di dormire     0  \n",
      "            artist_id  artist_latitude  artist_location  artist_longitude  \\\n",
      "0  ARBEBBY1187B9B43DB              NaN  Gainesville, FL               NaN   \n",
      "\n",
      "  artist_name   duration  num_songs             song_id  \\\n",
      "0   Tom Petty  236.17261          1  SOFFKZS12AB017F194   \n",
      "\n",
      "                            title  year  \n",
      "0  A Higher Place (Album Version)  1994  \n",
      "            artist_id  artist_latitude artist_location  artist_longitude  \\\n",
      "0  ARNNKDK1187B98BBD5         45.80726  Zagreb Croatia           15.9676   \n",
      "\n",
      "  artist_name   duration  num_songs             song_id  \\\n",
      "0        Jinx  407.37914          1  SOFNOQK12AB01840FC   \n",
      "\n",
      "                         title  year  \n",
      "0  Kutt Free (DJ Volume Remix)     0  \n",
      "            artist_id  artist_latitude artist_location  artist_longitude  \\\n",
      "0  AR7SMBG1187B9B9066              NaN                               NaN   \n",
      "\n",
      "   artist_name   duration  num_songs             song_id               title  \\\n",
      "0  Los Manolos  218.38322          1  SOBCOSW12A8C13D398  Rumba De Barcelona   \n",
      "\n",
      "   year  \n",
      "0     0  \n",
      "            artist_id  artist_latitude artist_location  artist_longitude  \\\n",
      "0  ARGCY1Y1187B9A4FA5         36.16778  Nashville, TN.         -86.77836   \n",
      "\n",
      "  artist_name   duration  num_songs             song_id               title  \\\n",
      "0    Gloriana  153.33832          1  SOQOTLQ12AB01868D0  Clementina Santafè   \n",
      "\n",
      "   year  \n",
      "0     0  \n",
      "            artist_id  artist_latitude artist_location  artist_longitude  \\\n",
      "0  AR36F9J1187FB406F1         56.27609         Denmark           9.51695   \n",
      "\n",
      "      artist_name   duration  num_songs             song_id  \\\n",
      "0  Bombay Rockers  230.71302          1  SOBKWDJ12A8C13B2F3   \n",
      "\n",
      "                           title  year  \n",
      "0  Wild Rose (Back 2 Basics Mix)     0  \n",
      "            artist_id  artist_latitude artist_location  artist_longitude  \\\n",
      "0  ARAGB2O1187FB3A161              NaN                               NaN   \n",
      "\n",
      "                       artist_name   duration  num_songs             song_id  \\\n",
      "0  Pucho & His Latin Soul Brothers  338.23302          1  SOLEYHO12AB0188A85   \n",
      "\n",
      "                title  year  \n",
      "0  Got My Mojo Workin     0  \n",
      "            artist_id  artist_latitude artist_location  artist_longitude  \\\n",
      "0  ARJIE2Y1187B994AB7              NaN                               NaN   \n",
      "\n",
      "   artist_name   duration  num_songs             song_id                title  \\\n",
      "0  Line Renaud  152.92036          1  SOUPIRU12A6D4FA1E1  Der Kleine Dompfaff   \n",
      "\n",
      "   year  \n",
      "0     0  \n",
      "            artist_id  artist_latitude artist_location  artist_longitude  \\\n",
      "0  ARVBRGZ1187FB4675A              NaN                               NaN   \n",
      "\n",
      "    artist_name   duration  num_songs             song_id           title  \\\n",
      "0  Gwen Stefani  290.55955          1  SORRZGD12A6310DBC3  Harajuku Girls   \n",
      "\n",
      "   year  \n",
      "0  2004  \n",
      "            artist_id  artist_latitude artist_location  artist_longitude  \\\n",
      "0  AR558FS1187FB45658              NaN                               NaN   \n",
      "\n",
      "  artist_name  duration  num_songs             song_id  title  year  \n",
      "0     40 Grit  75.67628          1  SOGDBUF12A8C140FAA  Intro  2003  \n",
      "            artist_id  artist_latitude           artist_location  \\\n",
      "0  ARNF6401187FB57032         40.79086  New York, NY [Manhattan]   \n",
      "\n",
      "   artist_longitude        artist_name  duration  num_songs  \\\n",
      "0         -73.96644  Sophie B. Hawkins   305.162          1   \n",
      "\n",
      "              song_id                          title  year  \n",
      "0  SONWXQJ12A8C134D94  The Ballad Of Sleeping Beauty  1994  \n",
      "            artist_id  artist_latitude artist_location  artist_longitude  \\\n",
      "0  AR0IAWL1187B9A96D0           8.4177          Panama         -80.11278   \n",
      "\n",
      "    artist_name   duration  num_songs             song_id        title  year  \n",
      "0  Danilo Perez  197.19791          1  SONSKXP12A8C13A2C9  Native Soul  2003  \n",
      "            artist_id  artist_latitude artist_location  artist_longitude  \\\n",
      "0  AR051KA1187B98B2FF              NaN                               NaN   \n",
      "\n",
      "  artist_name   duration  num_songs             song_id  \\\n",
      "0       Wilks  261.51138          1  SOLYIBD12A8C135045   \n",
      "\n",
      "                   title  year  \n",
      "0  Music is what we love     0  \n",
      "            artist_id  artist_latitude artist_location  artist_longitude  \\\n",
      "0  ARWB3G61187FB49404              NaN  Hamilton, Ohio               NaN   \n",
      "\n",
      "   artist_name   duration  num_songs             song_id      title  year  \n",
      "0  Steve Morse  363.85914          1  SODAUVL12A8C13D184  Prognosis  2000  \n",
      "            artist_id  artist_latitude artist_location  artist_longitude  \\\n",
      "0  ARULZCI1241B9C8611              NaN                               NaN   \n",
      "\n",
      "          artist_name   duration  num_songs             song_id  \\\n",
      "0  Luna Orbit Project  335.51628          1  SOSWKAV12AB018FC91   \n",
      "\n",
      "           title  year  \n",
      "0  Midnight Star     0  \n",
      "            artist_id  artist_latitude artist_location  artist_longitude  \\\n",
      "0  ARLTWXK1187FB5A3F8         32.74863  Fort Worth, TX         -97.32925   \n",
      "\n",
      "   artist_name   duration  num_songs             song_id  \\\n",
      "0  King Curtis  326.00771          1  SODREIN12A58A7F2E5   \n",
      "\n",
      "                                           title  year  \n",
      "0  A Whiter Shade Of Pale (Live @ Fillmore West)     0  \n",
      "            artist_id  artist_latitude artist_location  artist_longitude  \\\n",
      "0  ARPFHN61187FB575F6         41.88415     Chicago, IL         -87.63241   \n",
      "\n",
      "   artist_name   duration  num_songs             song_id  \\\n",
      "0  Lupe Fiasco  279.97995          1  SOWQTQZ12A58A7B63E   \n",
      "\n",
      "                                      title  year  \n",
      "0  Streets On Fire (Explicit Album Version)     0  \n",
      "            artist_id  artist_latitude artist_location  artist_longitude  \\\n",
      "0  AR8IEZO1187B99055E              NaN                               NaN   \n",
      "\n",
      "    artist_name   duration  num_songs             song_id          title  year  \n",
      "0  Marc Shaiman  149.86404          1  SOINLJW12A8C13314C  City Slickers  2008  \n",
      "            artist_id  artist_latitude artist_location  artist_longitude  \\\n",
      "0  AREVWGE1187B9B890A          -13.442       Noci (BA)          -41.9952   \n",
      "\n",
      "  artist_name   duration  num_songs             song_id        title  year  \n",
      "0  Bitter End  282.43546          1  SOFCHDR12AB01866EF  Living Hell     0  \n"
     ]
    }
   ],
   "source": [
    "for i in range(len(song_files)):\n",
    "    print(pd.read_json(song_files[i],lines=True))"
   ]
  },
  {
   "cell_type": "code",
   "execution_count": 88,
   "metadata": {
    "editable": true
   },
   "outputs": [
    {
     "data": {
      "text/html": [
       "<div>\n",
       "<style scoped>\n",
       "    .dataframe tbody tr th:only-of-type {\n",
       "        vertical-align: middle;\n",
       "    }\n",
       "\n",
       "    .dataframe tbody tr th {\n",
       "        vertical-align: top;\n",
       "    }\n",
       "\n",
       "    .dataframe thead th {\n",
       "        text-align: right;\n",
       "    }\n",
       "</style>\n",
       "<table border=\"1\" class=\"dataframe\">\n",
       "  <thead>\n",
       "    <tr style=\"text-align: right;\">\n",
       "      <th></th>\n",
       "    </tr>\n",
       "  </thead>\n",
       "  <tbody>\n",
       "  </tbody>\n",
       "</table>\n",
       "</div>"
      ],
      "text/plain": [
       "Empty DataFrame\n",
       "Columns: []\n",
       "Index: []"
      ]
     },
     "execution_count": 88,
     "metadata": {},
     "output_type": "execute_result"
    }
   ],
   "source": []
  },
  {
   "cell_type": "markdown",
   "metadata": {
    "editable": true
   },
   "source": [
    "#### Insert Record into Song Table\n",
    "Implement the `song_table_insert` query in `sql_queries.py` and run the cell below to insert a record for this song into the `songs` table. Remember to run `create_tables.py` before running the cell below to ensure you've created/resetted the `songs` table in the sparkify database."
   ]
  },
  {
   "cell_type": "code",
   "execution_count": null,
   "metadata": {
    "editable": true
   },
   "outputs": [],
   "source": [
    "cur.execute(song_table_insert, song_data)\n",
    "conn.commit()"
   ]
  },
  {
   "cell_type": "markdown",
   "metadata": {
    "editable": true
   },
   "source": [
    "Run `test.ipynb` to see if you've successfully added a record to this table."
   ]
  },
  {
   "cell_type": "markdown",
   "metadata": {
    "editable": true
   },
   "source": [
    "## #2: `artists` Table\n",
    "#### Extract Data for Artists Table\n",
    "- Select columns for artist ID, name, location, latitude, and longitude\n",
    "- Use `df.values` to select just the values from the dataframe\n",
    "- Index to select the first (only) record in the dataframe\n",
    "- Convert the array to a list and set it to `artist_data`"
   ]
  },
  {
   "cell_type": "code",
   "execution_count": null,
   "metadata": {
    "editable": true
   },
   "outputs": [],
   "source": [
    "artist_data = \n",
    "artist_data"
   ]
  },
  {
   "cell_type": "markdown",
   "metadata": {
    "editable": true
   },
   "source": [
    "#### Insert Record into Artist Table\n",
    "Implement the `artist_table_insert` query in `sql_queries.py` and run the cell below to insert a record for this song's artist into the `artists` table. Remember to run `create_tables.py` before running the cell below to ensure you've created/resetted the `artists` table in the sparkify database."
   ]
  },
  {
   "cell_type": "code",
   "execution_count": null,
   "metadata": {
    "editable": true
   },
   "outputs": [],
   "source": [
    "cur.execute(artist_table_insert, artist_data)\n",
    "conn.commit()"
   ]
  },
  {
   "cell_type": "markdown",
   "metadata": {
    "editable": true
   },
   "source": [
    "Run `test.ipynb` to see if you've successfully added a record to this table."
   ]
  },
  {
   "cell_type": "markdown",
   "metadata": {
    "editable": true
   },
   "source": [
    "# Process `log_data`\n",
    "In this part, you'll perform ETL on the second dataset, `log_data`, to create the `time` and `users` dimensional tables, as well as the `songplays` fact table.\n",
    "\n",
    "Let's perform ETL on a single log file and load a single record into each table.\n",
    "- Use the `get_files` function provided above to get a list of all log JSON files in `data/log_data`\n",
    "- Select the first log file in this list\n",
    "- Read the log file and view the data"
   ]
  },
  {
   "cell_type": "code",
   "execution_count": null,
   "metadata": {
    "editable": true
   },
   "outputs": [],
   "source": [
    "log_files = "
   ]
  },
  {
   "cell_type": "code",
   "execution_count": null,
   "metadata": {
    "editable": true
   },
   "outputs": [],
   "source": [
    "filepath = "
   ]
  },
  {
   "cell_type": "code",
   "execution_count": null,
   "metadata": {
    "editable": true
   },
   "outputs": [],
   "source": [
    "df = \n",
    "df.head()"
   ]
  },
  {
   "cell_type": "markdown",
   "metadata": {
    "editable": true
   },
   "source": [
    "## #3: `time` Table\n",
    "#### Extract Data for Time Table\n",
    "- Filter records by `NextSong` action\n",
    "- Convert the `ts` timestamp column to datetime\n",
    "  - Hint: the current timestamp is in milliseconds\n",
    "- Extract the timestamp, hour, day, week of year, month, year, and weekday from the `ts` column and set `time_data` to a list containing these values in order\n",
    "  - Hint: use pandas' [`dt` attribute](https://pandas.pydata.org/pandas-docs/stable/reference/api/pandas.Series.dt.html) to access easily datetimelike properties.\n",
    "- Specify labels for these columns and set to `column_labels`\n",
    "- Create a dataframe, `time_df,` containing the time data for this file by combining `column_labels` and `time_data` into a dictionary and converting this into a dataframe"
   ]
  },
  {
   "cell_type": "code",
   "execution_count": null,
   "metadata": {
    "editable": true
   },
   "outputs": [],
   "source": [
    "df = \n",
    "df.head()"
   ]
  },
  {
   "cell_type": "code",
   "execution_count": null,
   "metadata": {
    "editable": true
   },
   "outputs": [],
   "source": [
    "t = \n",
    "t.head()"
   ]
  },
  {
   "cell_type": "code",
   "execution_count": null,
   "metadata": {
    "editable": true
   },
   "outputs": [],
   "source": [
    "time_data = ()\n",
    "column_labels = ()"
   ]
  },
  {
   "cell_type": "code",
   "execution_count": null,
   "metadata": {
    "editable": true
   },
   "outputs": [],
   "source": [
    "time_df = \n",
    "time_df.head()"
   ]
  },
  {
   "cell_type": "markdown",
   "metadata": {
    "editable": true
   },
   "source": [
    "#### Insert Records into Time Table\n",
    "Implement the `time_table_insert` query in `sql_queries.py` and run the cell below to insert records for the timestamps in this log file into the `time` table. Remember to run `create_tables.py` before running the cell below to ensure you've created/resetted the `time` table in the sparkify database."
   ]
  },
  {
   "cell_type": "code",
   "execution_count": null,
   "metadata": {
    "editable": true
   },
   "outputs": [],
   "source": [
    "for i, row in time_df.iterrows():\n",
    "    cur.execute(time_table_insert, list(row))\n",
    "    conn.commit()"
   ]
  },
  {
   "cell_type": "markdown",
   "metadata": {
    "editable": true
   },
   "source": [
    "Run `test.ipynb` to see if you've successfully added records to this table."
   ]
  },
  {
   "cell_type": "markdown",
   "metadata": {
    "editable": true
   },
   "source": [
    "## #4: `users` Table\n",
    "#### Extract Data for Users Table\n",
    "- Select columns for user ID, first name, last name, gender and level and set to `user_df`"
   ]
  },
  {
   "cell_type": "code",
   "execution_count": null,
   "metadata": {
    "editable": true
   },
   "outputs": [],
   "source": [
    "user_df = "
   ]
  },
  {
   "cell_type": "markdown",
   "metadata": {
    "editable": true
   },
   "source": [
    "#### Insert Records into Users Table\n",
    "Implement the `user_table_insert` query in `sql_queries.py` and run the cell below to insert records for the users in this log file into the `users` table. Remember to run `create_tables.py` before running the cell below to ensure you've created/resetted the `users` table in the sparkify database."
   ]
  },
  {
   "cell_type": "code",
   "execution_count": null,
   "metadata": {
    "editable": true
   },
   "outputs": [],
   "source": [
    "for i, row in user_df.iterrows():\n",
    "    cur.execute(user_table_insert, row)\n",
    "    conn.commit()"
   ]
  },
  {
   "cell_type": "markdown",
   "metadata": {
    "editable": true
   },
   "source": [
    "Run `test.ipynb` to see if you've successfully added records to this table."
   ]
  },
  {
   "cell_type": "markdown",
   "metadata": {
    "editable": true
   },
   "source": [
    "## #5: `songplays` Table\n",
    "#### Extract Data and Songplays Table\n",
    "This one is a little more complicated since information from the songs table, artists table, and original log file are all needed for the `songplays` table. Since the log file does not specify an ID for either the song or the artist, you'll need to get the song ID and artist ID by querying the songs and artists tables to find matches based on song title, artist name, and song duration time.\n",
    "- Implement the `song_select` query in `sql_queries.py` to find the song ID and artist ID based on the title, artist name, and duration of a song.\n",
    "- Select the timestamp, user ID, level, song ID, artist ID, session ID, location, and user agent and set to `songplay_data`\n",
    "\n",
    "#### Insert Records into Songplays Table\n",
    "- Implement the `songplay_table_insert` query and run the cell below to insert records for the songplay actions in this log file into the `songplays` table. Remember to run `create_tables.py` before running the cell below to ensure you've created/resetted the `songplays` table in the sparkify database."
   ]
  },
  {
   "cell_type": "code",
   "execution_count": null,
   "metadata": {
    "editable": true
   },
   "outputs": [],
   "source": [
    "for index, row in df.iterrows():\n",
    "\n",
    "    # get songid and artistid from song and artist tables\n",
    "    cur.execute(song_select, (row.song, row.artist, row.length))\n",
    "    results = cur.fetchone()\n",
    "    \n",
    "    if results:\n",
    "        songid, artistid = results\n",
    "    else:\n",
    "        songid, artistid = None, None\n",
    "\n",
    "    # insert songplay record\n",
    "    songplay_data = ()\n",
    "    cur.execute(songplay_table_insert, songplay_data)\n",
    "    conn.commit()"
   ]
  },
  {
   "cell_type": "markdown",
   "metadata": {
    "editable": true
   },
   "source": [
    "Run `test.ipynb` to see if you've successfully added records to this table."
   ]
  },
  {
   "cell_type": "markdown",
   "metadata": {
    "editable": true
   },
   "source": [
    "# Close Connection to Sparkify Database"
   ]
  },
  {
   "cell_type": "code",
   "execution_count": null,
   "metadata": {
    "editable": true
   },
   "outputs": [],
   "source": [
    "conn.close()"
   ]
  },
  {
   "cell_type": "markdown",
   "metadata": {
    "editable": true
   },
   "source": [
    "# Implement `etl.py`\n",
    "Use what you've completed in this notebook to implement `etl.py`."
   ]
  },
  {
   "cell_type": "code",
   "execution_count": null,
   "metadata": {
    "editable": true
   },
   "outputs": [],
   "source": []
  }
 ],
 "metadata": {
  "kernelspec": {
   "display_name": "Python 3",
   "language": "python",
   "name": "python3"
  },
  "language_info": {
   "codemirror_mode": {
    "name": "ipython",
    "version": 3
   },
   "file_extension": ".py",
   "mimetype": "text/x-python",
   "name": "python",
   "nbconvert_exporter": "python",
   "pygments_lexer": "ipython3",
   "version": "3.6.3"
  }
 },
 "nbformat": 4,
 "nbformat_minor": 4
}
